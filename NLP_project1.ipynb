{
 "cells": [
  {
   "cell_type": "code",
   "execution_count": 52,
   "id": "f65368f6",
   "metadata": {},
   "outputs": [],
   "source": [
    "import requests\n",
    "import re\n",
    "import nltk\n",
    "from nltk.tokenize import word_tokenize"
   ]
  },
  {
   "cell_type": "code",
   "execution_count": 53,
   "id": "47cd9e90",
   "metadata": {},
   "outputs": [],
   "source": [
    "def get_html_from_url(url):\n",
    "    try:\n",
    "        response = requests.get(url)\n",
    "        # Check if the request was successful (status code 200)\n",
    "        if response.status_code == 200:\n",
    "            return response.text\n",
    "        else:\n",
    "            print(f\"Failed to fetch URL: {url}. Status code: {response.status_code}\")\n",
    "            return None\n",
    "    except requests.exceptions.RequestException as e:\n",
    "        print(f\"Error fetching URL: {url}. Exception: {e}\")\n",
    "        return None\n"
   ]
  },
  {
   "cell_type": "code",
   "execution_count": 54,
   "id": "82ecb9fc",
   "metadata": {},
   "outputs": [],
   "source": [
    "def clean_html(html_content):\n",
    "    try:\n",
    "        # Parse the HTML content using BeautifulSoup\n",
    "        soup = BeautifulSoup(html_content, 'html.parser')\n",
    "        # Extract the text\n",
    "        clean_text = soup.get_text()\n",
    "        return clean_text\n",
    "    except Exception as e:\n",
    "        print(f\"Error cleaning HTML: {e}\")\n",
    "        return None\n"
   ]
  },
  {
   "cell_type": "code",
   "execution_count": 55,
   "id": "3f772474",
   "metadata": {},
   "outputs": [
    {
     "name": "stdout",
     "output_type": "stream",
     "text": [
      "Machine learning with scikit-learn | PythonLearn/Courses/Supervised Learning with scikit-learnCourse Outline1ClassificationFree0%In this chapter, you'll be introduced to classification problems and learn how to solve them using supervised learning techniques. You'll learn how to split data into training and test sets, fit a model, make predictions, and evaluate accuracy. You’ll discover the relationship between model complexity and performance, applying what you learn to a churn dataset, where you will classify the churn status of a telecom company's customers.View Chapter Details2Regression0%In this chapter, you will be introduced to regression, and build models to predict sales values using a dataset on advertising expenditure. You will learn about the mechanics of linear regression and common performance metrics such as R-squared and root mean squared error. You will perform k-fold cross-validation, and apply regularization to regression models to reduce the risk of overfitting. View Chapter Details3Fine-Tuning Your Model0%Having trained models, now you will learn how to evaluate them. In this chapter, you will be introduced to several metrics along with a visualization technique for analyzing classification model performance using scikit-learn. You will also learn how to optimize classification and regression models through the use of hyperparameter tuning.View Chapter Details4Preprocessing and Pipelines0%Learn how to impute missing values, convert categorical data to numeric values, scale data, evaluate multiple supervised learning models simultaneously, and build pipelines to streamline your workflow!View Chapter DetailsShow SlidesTake NotesContinue Learning on MobileProvide FeedbackInitializing\n"
     ]
    }
   ],
   "source": [
    "# Example usage:\n",
    "url = \"https://campus.datacamp.com/courses/supervised-learning-with-scikit-learn/classification-1?ex=1\"\n",
    "html_content = get_html_from_url(url)\n",
    "if html_content:\n",
    "    clean_text = clean_html(html_content)\n",
    "    if clean_text:\n",
    "        print(clean_text)\n"
   ]
  },
  {
   "cell_type": "code",
   "execution_count": 56,
   "id": "f5e3eb8c",
   "metadata": {},
   "outputs": [
    {
     "name": "stdout",
     "output_type": "stream",
     "text": [
      "machine learning with scikit-learn | pythonlearn/courses/supervised learning with scikit-learncourse outline1classificationfree0%in this chapter, you'll be introduced to classification problems and learn how to solve them using supervised learning techniques. you'll learn how to split data into training and test sets, fit a model, make predictions, and evaluate accuracy. you’ll discover the relationship between model complexity and performance, applying what you learn to a churn dataset, where you will classify the churn status of a telecom company's customers.view chapter details2regression0%in this chapter, you will be introduced to regression, and build models to predict sales values using a dataset on advertising expenditure. you will learn about the mechanics of linear regression and common performance metrics such as r-squared and root mean squared error. you will perform k-fold cross-validation, and apply regularization to regression models to reduce the risk of overfitting. view chapter details3fine-tuning your model0%having trained models, now you will learn how to evaluate them. in this chapter, you will be introduced to several metrics along with a visualization technique for analyzing classification model performance using scikit-learn. you will also learn how to optimize classification and regression models through the use of hyperparameter tuning.view chapter details4preprocessing and pipelines0%learn how to impute missing values, convert categorical data to numeric values, scale data, evaluate multiple supervised learning models simultaneously, and build pipelines to streamline your workflow!view chapter detailsshow slidestake notescontinue learning on mobileprovide feedbackinitializing\n"
     ]
    }
   ],
   "source": [
    "#normalization \n",
    "\n",
    "text = clean_text.lower()\n",
    "print(text)"
   ]
  },
  {
   "cell_type": "code",
   "execution_count": 57,
   "id": "d3df0286",
   "metadata": {},
   "outputs": [
    {
     "name": "stdout",
     "output_type": "stream",
     "text": [
      "machine learning with scikit learn   pythonlearn courses supervised learning with scikit learncourse outline classificationfree  in this chapter, you'll be introduced to classification problems and learn how to solve them using supervised learning techniques  you'll learn how to split data into training and test sets, fit a model, make predictions, and evaluate accuracy  you’ll discover the relationship between model complexity and performance, applying what you learn to a churn dataset, where you will classify the churn status of a telecom company's customers view chapter details regression  in this chapter, you will be introduced to regression, and build models to predict sales values using a dataset on advertising expenditure  you will learn about the mechanics of linear regression and common performance metrics such as r squared and root mean squared error  you will perform k fold cross validation, and apply regularization to regression models to reduce the risk of overfitting  view chapter details fine tuning your model  having trained models, now you will learn how to evaluate them  in this chapter, you will be introduced to several metrics along with a visualization technique for analyzing classification model performance using scikit learn  you will also learn how to optimize classification and regression models through the use of hyperparameter tuning view chapter details preprocessing and pipelines  learn how to impute missing values, convert categorical data to numeric values, scale data, evaluate multiple supervised learning models simultaneously, and build pipelines to streamline your workflow view chapter detailsshow slidestake notescontinue learning on mobileprovide feedbackinitializing\n"
     ]
    }
   ],
   "source": [
    "# punctuation normalization\n",
    "\n",
    "removes = ['|','/','0%','.','!','-','1','2','3','4']\n",
    "\n",
    "# Construct a regex pattern to match any of the characters in the removes list\n",
    "pattern = \"[\" + re.escape(\"\".join(removes)) + \"]\"\n",
    "\n",
    "# Remove the characters using re.sub\n",
    "text = re.sub(pattern, ' ', text)\n",
    "\n",
    "print(text)"
   ]
  },
  {
   "cell_type": "code",
   "execution_count": 58,
   "id": "c58ae090",
   "metadata": {},
   "outputs": [
    {
     "name": "stdout",
     "output_type": "stream",
     "text": [
      "['machine', 'learning', 'with', 'scikit', 'learn', 'pythonlearn', 'courses', 'supervised', 'learning', 'with', 'scikit', 'learncourse', 'outline', 'classificationfree', 'in', 'this', 'chapter', ',', 'you', \"'ll\", 'be', 'introduced', 'to', 'classification', 'problems', 'and', 'learn', 'how', 'to', 'solve', 'them', 'using', 'supervised', 'learning', 'techniques', 'you', \"'ll\", 'learn', 'how', 'to', 'split', 'data', 'into', 'training', 'and', 'test', 'sets', ',', 'fit', 'a', 'model', ',', 'make', 'predictions', ',', 'and', 'evaluate', 'accuracy', 'you', '’', 'll', 'discover', 'the', 'relationship', 'between', 'model', 'complexity', 'and', 'performance', ',', 'applying', 'what', 'you', 'learn', 'to', 'a', 'churn', 'dataset', ',', 'where', 'you', 'will', 'classify', 'the', 'churn', 'status', 'of', 'a', 'telecom', 'company', \"'s\", 'customers', 'view', 'chapter', 'details', 'regression', 'in', 'this', 'chapter', ',', 'you', 'will', 'be', 'introduced', 'to', 'regression', ',', 'and', 'build', 'models', 'to', 'predict', 'sales', 'values', 'using', 'a', 'dataset', 'on', 'advertising', 'expenditure', 'you', 'will', 'learn', 'about', 'the', 'mechanics', 'of', 'linear', 'regression', 'and', 'common', 'performance', 'metrics', 'such', 'as', 'r', 'squared', 'and', 'root', 'mean', 'squared', 'error', 'you', 'will', 'perform', 'k', 'fold', 'cross', 'validation', ',', 'and', 'apply', 'regularization', 'to', 'regression', 'models', 'to', 'reduce', 'the', 'risk', 'of', 'overfitting', 'view', 'chapter', 'details', 'fine', 'tuning', 'your', 'model', 'having', 'trained', 'models', ',', 'now', 'you', 'will', 'learn', 'how', 'to', 'evaluate', 'them', 'in', 'this', 'chapter', ',', 'you', 'will', 'be', 'introduced', 'to', 'several', 'metrics', 'along', 'with', 'a', 'visualization', 'technique', 'for', 'analyzing', 'classification', 'model', 'performance', 'using', 'scikit', 'learn', 'you', 'will', 'also', 'learn', 'how', 'to', 'optimize', 'classification', 'and', 'regression', 'models', 'through', 'the', 'use', 'of', 'hyperparameter', 'tuning', 'view', 'chapter', 'details', 'preprocessing', 'and', 'pipelines', 'learn', 'how', 'to', 'impute', 'missing', 'values', ',', 'convert', 'categorical', 'data', 'to', 'numeric', 'values', ',', 'scale', 'data', ',', 'evaluate', 'multiple', 'supervised', 'learning', 'models', 'simultaneously', ',', 'and', 'build', 'pipelines', 'to', 'streamline', 'your', 'workflow', 'view', 'chapter', 'detailsshow', 'slidestake', 'notescontinue', 'learning', 'on', 'mobileprovide', 'feedbackinitializing']\n"
     ]
    }
   ],
   "source": [
    "# Tokenize the paragraph\n",
    "tokens = word_tokenize(text)\n",
    "print(tokens)"
   ]
  },
  {
   "cell_type": "code",
   "execution_count": null,
   "id": "51be0444",
   "metadata": {},
   "outputs": [],
   "source": [
    "for token in tokens:\n",
    "    if len(token)<3"
   ]
  },
  {
   "cell_type": "code",
   "execution_count": 60,
   "id": "a9ac3e12",
   "metadata": {},
   "outputs": [
    {
     "name": "stdout",
     "output_type": "stream",
     "text": [
      "{'chapter', 'accuracy', 'test', 'r', 'classify', 'this', 'complexity', 'k', 'trained', 'and', 'expenditure', 'feedbackinitializing', 'telecom', 'notescontinue', 'what', 'pythonlearn', 'build', 'multiple', 'predict', 'mean', 'risk', 'performance', 'your', 'discover', 'you', 'cross', 'a', 'churn', 'now', 'outline', 'relationship', 'customers', 'common', 'for', \"'ll\", 'reduce', 'between', 'introduced', ',', 'fit', 'several', 'solve', 'model', 'them', 'dataset', 'learning', 'numeric', 'problems', '’', 'view', 'about', 'make', 'courses', 'technique', 'supervised', 'how', 'perform', 'sets', 'analyzing', 'machine', 'll', 'fold', 'data', 'into', 'with', 'detailsshow', 'simultaneously', 'validation', 'along', 'techniques', 'company', 'such', 'missing', 'predictions', 'where', 'metrics', 'evaluate', 'details', 'tuning', 'of', 'using', 'the', 'sales', 'learn', 'use', 'visualization', 'learncourse', 'classificationfree', 'regression', 'regularization', 'preprocessing', 'convert', 'models', 'linear', 'fine', 'error', 'as', 'will', 'training', 'on', 'categorical', 'apply', 'streamline', 'overfitting', 'squared', 'also', 'impute', 'mobileprovide', 'having', 'slidestake', 'advertising', 'optimize', 'in', 'split', 'pipelines', 'to', \"'s\", 'status', 'hyperparameter', 'scikit', 'values', 'applying', 'be', 'classification', 'scale', 'mechanics', 'root', 'workflow', 'through'}\n"
     ]
    }
   ],
   "source": [
    "# Initialize a set to store unique words\n",
    "unique_words = set()\n",
    "\n",
    "# Iterate over tokens to get unique words\n",
    "for token in tokens:\n",
    "    unique_words.add(token)\n",
    "\n",
    "print(unique_words)"
   ]
  },
  {
   "cell_type": "code",
   "execution_count": null,
   "id": "e9a61704",
   "metadata": {},
   "outputs": [],
   "source": []
  },
  {
   "cell_type": "code",
   "execution_count": null,
   "id": "de2ca9ce",
   "metadata": {},
   "outputs": [],
   "source": []
  }
 ],
 "metadata": {
  "kernelspec": {
   "display_name": "Python 3 (ipykernel)",
   "language": "python",
   "name": "python3"
  },
  "language_info": {
   "codemirror_mode": {
    "name": "ipython",
    "version": 3
   },
   "file_extension": ".py",
   "mimetype": "text/x-python",
   "name": "python",
   "nbconvert_exporter": "python",
   "pygments_lexer": "ipython3",
   "version": "3.11.4"
  }
 },
 "nbformat": 4,
 "nbformat_minor": 5
}
